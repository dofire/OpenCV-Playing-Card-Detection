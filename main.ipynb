version https://git-lfs.github.com/spec/v1
oid sha256:3e07522f244315e9c455c0c7455b1fd7f13e0752a7d6927a7e538d70eeaa4c9c
size 1400074
